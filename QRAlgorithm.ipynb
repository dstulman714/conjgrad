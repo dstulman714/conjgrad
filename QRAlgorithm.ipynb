{
  "nbformat": 4,
  "nbformat_minor": 0,
  "metadata": {
    "colab": {
      "name": "QRAlgorithm.ipynb",
      "provenance": [],
      "authorship_tag": "ABX9TyPIcPJzfh+L6PsSVAELIDFt",
      "include_colab_link": true
    },
    "kernelspec": {
      "name": "python3",
      "display_name": "Python 3"
    }
  },
  "cells": [
    {
      "cell_type": "markdown",
      "metadata": {
        "id": "view-in-github",
        "colab_type": "text"
      },
      "source": [
        "<a href=\"https://colab.research.google.com/github/dstulman714/conjgrad/blob/master/QRAlgorithm.ipynb\" target=\"_parent\"><img src=\"https://colab.research.google.com/assets/colab-badge.svg\" alt=\"Open In Colab\"/></a>"
      ]
    },
    {
      "cell_type": "code",
      "metadata": {
        "id": "Agkxgy0CtrUL",
        "colab_type": "code",
        "colab": {}
      },
      "source": [
        "import numpy as np\n",
        "from numpy.linalg import qr\n",
        "def QRalgo(A, iters = 10):\n",
        "    n = np.shape(A)[0]\n",
        "    Ak = A\n",
        "    temp = Ak\n",
        "    for i in range(iters-1):\n",
        "        Q,R = qr(temp)\n",
        "        Ak = np.dot(R,Q)\n",
        "        temp = Ak\n",
        "    return np.array([Ak[i,i] for i in range(n)])"
      ],
      "execution_count": 0,
      "outputs": []
    }
  ]
}